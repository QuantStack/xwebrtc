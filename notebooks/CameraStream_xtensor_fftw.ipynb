{
 "cells": [
  {
   "cell_type": "code",
   "execution_count": null,
   "metadata": {},
   "outputs": [],
   "source": [
    "#pragma cling(optimize, 3)\n",
    "\n",
    "#include <string>\n",
    "#include <fstream>\n",
    "#include <complex>\n",
    "\n",
    "#include \"xtl/xbase64.hpp\"\n",
    "\n",
    "#include \"xtensor/xarray.hpp\"\n",
    "#include \"xtensor/xview.hpp\"\n",
    "#include \"xtensor/xbuilder.hpp\"\n",
    "\n",
    "#include \"xtensor-io/ximage.hpp\"\n",
    "\n",
    "#include \"xtensor-fftw/basic.hpp\"\n",
    "#include \"xtensor-fftw/helper.hpp\"\n",
    "\n",
    "#include \"xwidgets/ximage.hpp\"\n",
    "#include \"xwidgets/xbox.hpp\"\n",
    "\n",
    "#include \"xwebrtc/xcamera_stream.hpp\"\n",
    "#include \"xwebrtc/ximage_recorder.hpp\""
   ]
  },
  {
   "cell_type": "code",
   "execution_count": null,
   "metadata": {},
   "outputs": [],
   "source": [
    "std::vector<char> read_file(const char* filename)\n",
    "{\n",
    "    std::basic_ifstream<char> file(filename, std::ios::binary);\n",
    "    return std::vector<char>((std::istreambuf_iterator<char>(file)), std::istreambuf_iterator<char>());\n",
    "}"
   ]
  },
  {
   "cell_type": "code",
   "execution_count": null,
   "metadata": {},
   "outputs": [],
   "source": [
    "template <class E>\n",
    "std::vector<char> to_png_buffer(const xt::xexpression<E>& e)\n",
    "{\n",
    "    const char* temp_filename = \"/tmp/xio_image.png\";\n",
    "    xt::dump_image(temp_filename, e);\n",
    "    return read_file(temp_filename);\n",
    "}"
   ]
  },
  {
   "cell_type": "code",
   "execution_count": null,
   "metadata": {},
   "outputs": [],
   "source": [
    "auto camera_stream = xwebrtc::camera_facing_user(false)\n",
    "    .constraints({{\"audio\", false}, {\"video\", {{\"height\", 180}, {\"width\", 320}}}})\n",
    "    .finalize();\n",
    "camera_stream"
   ]
  },
  {
   "cell_type": "code",
   "execution_count": null,
   "metadata": {
    "scrolled": false
   },
   "outputs": [],
   "source": [
    "auto recorder = xwebrtc::image_recorder(camera_stream);\n",
    "recorder.autosave() = false;\n",
    "auto& input = recorder.image();\n",
    "recorder"
   ]
  },
  {
   "cell_type": "code",
   "execution_count": null,
   "metadata": {},
   "outputs": [],
   "source": [
    "recorder.recording = true;"
   ]
  },
  {
   "cell_type": "code",
   "execution_count": null,
   "metadata": {},
   "outputs": [],
   "source": [
    "xt::xarray<double> image_R;\n",
    "xt::xarray< std::complex<double> > d_image_dx_fs_bw;\n",
    "xt::xarray< std::complex<double> > d_image_dy_fs_bw;"
   ]
  },
  {
   "cell_type": "code",
   "execution_count": null,
   "metadata": {},
   "outputs": [],
   "source": [
    "auto output = xw::image();"
   ]
  },
  {
   "cell_type": "code",
   "execution_count": null,
   "metadata": {},
   "outputs": [],
   "source": [
    "auto callback = [&](auto&) {\n",
    "    ::recorder.save();\n",
    "    \n",
    "    image_R = xt::view(xt::load_image(\"record.png\"), xt::all(), xt::all(), 0);\n",
    "    \n",
    "    auto image_fs_bw = xt::fftw::rfft2(image_R);\n",
    "    \n",
    "    std::complex<double> i {0, 1};\n",
    "    d_image_dx_fs_bw = i * xt::view(xt::fftw::fftscale<double>(image_R.shape()[0]), xt::all(), xt::newaxis()) * image_fs_bw;\n",
    "    d_image_dy_fs_bw = i * xt::fftw::rfftscale<double>(image_R.shape()[1]) * image_fs_bw;\n",
    "    \n",
    "    auto d_image_dx_bw = xt::fftw::irfft2(d_image_dx_fs_bw);\n",
    "    auto d_image_dy_bw = xt::fftw::irfft2(d_image_dy_fs_bw);\n",
    "    \n",
    "    auto d_image_grad_bw = xt::sqrt(d_image_dx_bw * d_image_dx_bw + d_image_dy_bw * d_image_dy_bw);\n",
    "    \n",
    "    double amax_d_image_grad_bw3 = xt::amax(d_image_grad_bw)[0];\n",
    "    \n",
    "    auto res = xt::cast<unsigned char>(255 - (d_image_grad_bw / amax_d_image_grad_bw3 * 255));\n",
    "    output.value = to_png_buffer(res);\n",
    "    \n",
    "    ::recorder.recording = true;\n",
    "};\n",
    "XOBSERVE(input, value, callback);"
   ]
  },
  {
   "cell_type": "code",
   "execution_count": null,
   "metadata": {},
   "outputs": [],
   "source": [
    "recorder.save();\n",
    "\n",
    "recorder.recording = true;"
   ]
  },
  {
   "cell_type": "code",
   "execution_count": null,
   "metadata": {},
   "outputs": [],
   "source": [
    "output.layout().width = \"100%\";\n",
    "output.layout().height = \"100%\";\n",
    "input.layout().width = \"100%\";\n",
    "input.layout().height = \"100%\";"
   ]
  },
  {
   "cell_type": "code",
   "execution_count": null,
   "metadata": {},
   "outputs": [],
   "source": [
    "auto hbox = xw::hbox::initialize().children({input, output}).finalize();\n",
    "hbox"
   ]
  },
  {
   "cell_type": "code",
   "execution_count": null,
   "metadata": {},
   "outputs": [],
   "source": []
  }
 ],
 "metadata": {
  "kernelspec": {
   "display_name": "C++14",
   "language": "C++14",
   "name": "xcpp14"
  },
  "language_info": {
   "codemirror_mode": "text/x-c++src",
   "file_extension": ".cpp",
   "mimetype": "text/x-c++src",
   "name": "c++",
   "version": "14"
  }
 },
 "nbformat": 4,
 "nbformat_minor": 2
}
